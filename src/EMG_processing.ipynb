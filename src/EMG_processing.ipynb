{
 "cells": [
  {
   "cell_type": "markdown",
   "id": "crude-compact",
   "metadata": {},
   "source": [
    "# EMG data processing"
   ]
  },
  {
   "cell_type": "markdown",
   "id": "german-provincial",
   "metadata": {},
   "source": [
    "Currently based on pipeline from https://www.theseus.fi/bitstream/handle/10024/147196/thesis_susan.pdf?sequence=1&isAllowed=y.\n",
    "\n",
    "Rough outline:\n",
    "\n",
    "**EMG data -> Moving average filter -> Savitzky-Golay Filter -> Classification algorithm**"
   ]
  },
  {
   "cell_type": "code",
   "execution_count": null,
   "id": "tamil-banks",
   "metadata": {},
   "outputs": [],
   "source": []
  }
 ],
 "metadata": {
  "kernelspec": {
   "display_name": "Python 3",
   "language": "python",
   "name": "python3"
  },
  "language_info": {
   "codemirror_mode": {
    "name": "ipython",
    "version": 3
   },
   "file_extension": ".py",
   "mimetype": "text/x-python",
   "name": "python",
   "nbconvert_exporter": "python",
   "pygments_lexer": "ipython3",
   "version": "3.8.5"
  }
 },
 "nbformat": 4,
 "nbformat_minor": 5
}
